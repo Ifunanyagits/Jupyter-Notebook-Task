{
 "cells": [
  {
   "cell_type": "markdown",
   "id": "3534594f-b937-45e7-a980-bbebb82810cd",
   "metadata": {
    "tags": []
   },
   "source": [
    "# Data Science Tools and Ecosystem"
   ]
  },
  {
   "cell_type": "markdown",
   "id": "0abf3e67-1809-4400-b3c3-9d014a84fd23",
   "metadata": {},
   "source": [
    "## In this notebook, Data Science Tools and Ecosystem are summarized."
   ]
  },
  {
   "cell_type": "markdown",
   "id": "74a3fa56-6351-49b3-a20f-5c716cb3d8ba",
   "metadata": {},
   "source": [
    "__Objectives:__\n",
    "\n",
    "* Data Science Tools and Ecosystem\n",
    "* Popular languages that Data Scientists use\n",
    "* Commonly used libraries used by Data Scientists"
   ]
  },
  {
   "cell_type": "markdown",
   "id": "b9bc02e6-74d6-4b5c-b952-51b6e7eeffd2",
   "metadata": {},
   "source": [
    "### Some of the popular languages that Data Scientists use are:"
   ]
  },
  {
   "cell_type": "markdown",
   "id": "c77659ae-ea4b-4b90-b552-f67fe4d12c12",
   "metadata": {},
   "source": [
    "1. Python\n",
    "2. R\n",
    "3. SQL"
   ]
  },
  {
   "cell_type": "markdown",
   "id": "fc093eb9-7eb3-46ab-aee0-1c655711e243",
   "metadata": {},
   "source": [
    "### Some of the commonly used libraries used by Data Scientists include:"
   ]
  },
  {
   "cell_type": "markdown",
   "id": "eead66e6-0f21-4a8e-a7d5-37c2f97fc6fe",
   "metadata": {},
   "source": [
    "1. Pandas\n",
    "2. MatplotLib\n",
    "3. NumPy\n",
    "4. Tensorflow\n",
    "5. SciPy"
   ]
  },
  {
   "cell_type": "markdown",
   "id": "729795ed-69ef-4f9b-8478-b2534f58cf29",
   "metadata": {},
   "source": [
    "| Data Science Tools |\n",
    "|--------------------|\n",
    "| Jypyter Notebook   |\n",
    "| RStudio            |"
   ]
  },
  {
   "cell_type": "markdown",
   "id": "84cdbf09-4e67-4f8e-a15d-9c19bf252ac5",
   "metadata": {},
   "source": [
    "### Below are a few examples of evaluating arithmetic expressions in Python"
   ]
  },
  {
   "cell_type": "code",
   "execution_count": 1,
   "id": "f27e9436-606c-49f2-9246-3a886f5ba7fd",
   "metadata": {
    "tags": []
   },
   "outputs": [
    {
     "data": {
      "text/plain": [
       "17"
      ]
     },
     "execution_count": 1,
     "metadata": {},
     "output_type": "execute_result"
    }
   ],
   "source": [
    " #This a simple arithmetic expression to mutiply then add integers\n",
    "(3*4)+5"
   ]
  },
  {
   "cell_type": "code",
   "execution_count": 2,
   "id": "eb23abad-afd2-4603-9de3-be41db27b9fe",
   "metadata": {
    "tags": []
   },
   "outputs": [
    {
     "name": "stdout",
     "output_type": "stream",
     "text": [
      "3.3333333333333335\n"
     ]
    }
   ],
   "source": [
    "#This will convert 200 minutes to hours by diving by 60\n",
    "\n",
    "minutes = 200\n",
    "hours = minutes / 60\n",
    "\n",
    "print(hours)"
   ]
  },
  {
   "cell_type": "markdown",
   "id": "b1ef3b29-9ac7-4054-8216-8e4b0f573721",
   "metadata": {},
   "source": [
    "## Author\n",
    "Ifunanya Iloh"
   ]
  }
 ],
 "metadata": {
  "kernelspec": {
   "display_name": "Python",
   "language": "python",
   "name": "conda-env-python-py"
  },
  "language_info": {
   "codemirror_mode": {
    "name": "ipython",
    "version": 3
   },
   "file_extension": ".py",
   "mimetype": "text/x-python",
   "name": "python",
   "nbconvert_exporter": "python",
   "pygments_lexer": "ipython3",
   "version": "3.7.12"
  }
 },
 "nbformat": 4,
 "nbformat_minor": 5
}
